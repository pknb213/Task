{
 "cells": [
  {
   "cell_type": "code",
   "execution_count": 1,
   "metadata": {
    "collapsed": true,
    "pycharm": {
     "name": "#%%\n",
     "is_executing": false
    }
   },
   "outputs": [
    {
     "traceback": [
      "\u001b[1;31m---------------------------------------------------------------------------\u001b[0m",
      "\u001b[1;31mRuntimeError\u001b[0m                              Traceback (most recent call last)",
      "\u001b[1;32m<ipython-input-1-09534b0047ec>\u001b[0m in \u001b[0;36m<module>\u001b[1;34m\u001b[0m\n\u001b[0;32m     14\u001b[0m \u001b[1;32mimport\u001b[0m \u001b[0masyncio\u001b[0m\u001b[1;33m\u001b[0m\u001b[1;33m\u001b[0m\u001b[0m\n\u001b[0;32m     15\u001b[0m \u001b[0mloop\u001b[0m \u001b[1;33m=\u001b[0m \u001b[0masyncio\u001b[0m\u001b[1;33m.\u001b[0m\u001b[0mget_event_loop\u001b[0m\u001b[1;33m(\u001b[0m\u001b[1;33m)\u001b[0m\u001b[1;33m\u001b[0m\u001b[1;33m\u001b[0m\u001b[0m\n\u001b[1;32m---> 16\u001b[1;33m \u001b[0mloop\u001b[0m\u001b[1;33m.\u001b[0m\u001b[0mrun_until_complete\u001b[0m\u001b[1;33m(\u001b[0m\u001b[0mmain_async\u001b[0m\u001b[1;33m(\u001b[0m\u001b[1;33m)\u001b[0m\u001b[1;33m)\u001b[0m\u001b[1;33m\u001b[0m\u001b[1;33m\u001b[0m\u001b[0m\n\u001b[0m\u001b[0;32m     17\u001b[0m \u001b[0mloop\u001b[0m\u001b[1;33m.\u001b[0m\u001b[0mclose\u001b[0m\u001b[1;33m(\u001b[0m\u001b[1;33m)\u001b[0m\u001b[1;33m\u001b[0m\u001b[1;33m\u001b[0m\u001b[0m\n\u001b[0;32m     18\u001b[0m \u001b[1;33m\u001b[0m\u001b[0m\n",
      "\u001b[1;32m~\\Anaconda3\\lib\\asyncio\\base_events.py\u001b[0m in \u001b[0;36mrun_until_complete\u001b[1;34m(self, future)\u001b[0m\n\u001b[0;32m    564\u001b[0m         \u001b[0mfuture\u001b[0m\u001b[1;33m.\u001b[0m\u001b[0madd_done_callback\u001b[0m\u001b[1;33m(\u001b[0m\u001b[0m_run_until_complete_cb\u001b[0m\u001b[1;33m)\u001b[0m\u001b[1;33m\u001b[0m\u001b[1;33m\u001b[0m\u001b[0m\n\u001b[0;32m    565\u001b[0m         \u001b[1;32mtry\u001b[0m\u001b[1;33m:\u001b[0m\u001b[1;33m\u001b[0m\u001b[1;33m\u001b[0m\u001b[0m\n\u001b[1;32m--> 566\u001b[1;33m             \u001b[0mself\u001b[0m\u001b[1;33m.\u001b[0m\u001b[0mrun_forever\u001b[0m\u001b[1;33m(\u001b[0m\u001b[1;33m)\u001b[0m\u001b[1;33m\u001b[0m\u001b[1;33m\u001b[0m\u001b[0m\n\u001b[0m\u001b[0;32m    567\u001b[0m         \u001b[1;32mexcept\u001b[0m\u001b[1;33m:\u001b[0m\u001b[1;33m\u001b[0m\u001b[1;33m\u001b[0m\u001b[0m\n\u001b[0;32m    568\u001b[0m             \u001b[1;32mif\u001b[0m \u001b[0mnew_task\u001b[0m \u001b[1;32mand\u001b[0m \u001b[0mfuture\u001b[0m\u001b[1;33m.\u001b[0m\u001b[0mdone\u001b[0m\u001b[1;33m(\u001b[0m\u001b[1;33m)\u001b[0m \u001b[1;32mand\u001b[0m \u001b[1;32mnot\u001b[0m \u001b[0mfuture\u001b[0m\u001b[1;33m.\u001b[0m\u001b[0mcancelled\u001b[0m\u001b[1;33m(\u001b[0m\u001b[1;33m)\u001b[0m\u001b[1;33m:\u001b[0m\u001b[1;33m\u001b[0m\u001b[1;33m\u001b[0m\u001b[0m\n",
      "\u001b[1;32m~\\Anaconda3\\lib\\asyncio\\base_events.py\u001b[0m in \u001b[0;36mrun_forever\u001b[1;34m(self)\u001b[0m\n\u001b[0;32m    519\u001b[0m         \u001b[0mself\u001b[0m\u001b[1;33m.\u001b[0m\u001b[0m_check_closed\u001b[0m\u001b[1;33m(\u001b[0m\u001b[1;33m)\u001b[0m\u001b[1;33m\u001b[0m\u001b[1;33m\u001b[0m\u001b[0m\n\u001b[0;32m    520\u001b[0m         \u001b[1;32mif\u001b[0m \u001b[0mself\u001b[0m\u001b[1;33m.\u001b[0m\u001b[0mis_running\u001b[0m\u001b[1;33m(\u001b[0m\u001b[1;33m)\u001b[0m\u001b[1;33m:\u001b[0m\u001b[1;33m\u001b[0m\u001b[1;33m\u001b[0m\u001b[0m\n\u001b[1;32m--> 521\u001b[1;33m             \u001b[1;32mraise\u001b[0m \u001b[0mRuntimeError\u001b[0m\u001b[1;33m(\u001b[0m\u001b[1;34m'This event loop is already running'\u001b[0m\u001b[1;33m)\u001b[0m\u001b[1;33m\u001b[0m\u001b[1;33m\u001b[0m\u001b[0m\n\u001b[0m\u001b[0;32m    522\u001b[0m         \u001b[1;32mif\u001b[0m \u001b[0mevents\u001b[0m\u001b[1;33m.\u001b[0m\u001b[0m_get_running_loop\u001b[0m\u001b[1;33m(\u001b[0m\u001b[1;33m)\u001b[0m \u001b[1;32mis\u001b[0m \u001b[1;32mnot\u001b[0m \u001b[1;32mNone\u001b[0m\u001b[1;33m:\u001b[0m\u001b[1;33m\u001b[0m\u001b[1;33m\u001b[0m\u001b[0m\n\u001b[0;32m    523\u001b[0m             raise RuntimeError(\n",
      "\u001b[1;31mRuntimeError\u001b[0m: This event loop is already running"
     ],
     "ename": "RuntimeError",
     "evalue": "This event loop is already running",
     "output_type": "error"
    }
   ],
   "source": [
    "# Sync Function\n",
    "def do_sync():\n",
    "    pass\n",
    "\n",
    "# Async Function (Coroutine)\n",
    "async def do_async():\n",
    "    pass\n",
    "\n",
    "# 비동기 함수는 일반적으로 Async 선언된 다른 비동기 함수 내에서 await 키워드를 붙여 호출\n",
    "async def main_async():\n",
    "    await do_async()\n",
    "    \n",
    "# async 으로 선언되지 않은 일반 동기 함수 내에서 비동기 함수를 호출하려면 asyncio 라이브러리의 이벤트 루프이용\n",
    "import asyncio\n",
    "loop = asyncio.get_event_loop()\n",
    "loop.run_until_complete(main_async())\n",
    "loop.close()\n",
    "\n",
    "# 3.7 부터는 한줄로 호출 가능합니다.\n",
    "asyncio.run(main_async())"
   ]
  },
  {
   "cell_type": "code",
   "execution_count": 15,
   "outputs": [
    {
     "name": "stdout",
     "text": [
      "3명 중 1번 째 사용자 조회 중...\n",
      "3명 중 2번 째 사용자 조회 중...\n",
      "3명 중 3번 째 사용자 조회 중...\n",
      " > 총 3명 사용자 동기 조회 완료!\n",
      "2명 중 1번 째 사용자 조회 중...\n",
      "2명 중 2번 째 사용자 조회 중...\n",
      " > 총 2명 사용자 동기 조회 완료!\n",
      "1명 중 1번 째 사용자 조회 중...\n",
      " > 총 1명 사용자 동기 조회 완료!\n",
      ">>> 동기 처리 총 소요 시간 : 6.003s\n",
      "\n",
      "1명 중 1번 째 사용자 조회 중...\n",
      "2명 중 1번 째 사용자 조회 중...\n",
      "3명 중 1번 째 사용자 조회 중...\n",
      "총 1명 사용자 비동기 조회 완료\n",
      "2명 중 2번 째 사용자 조회 중...\n",
      "3명 중 2번 째 사용자 조회 중...\n",
      "총 2명 사용자 비동기 조회 완료\n",
      "3명 중 3번 째 사용자 조회 중...\n",
      "총 3명 사용자 비동기 조회 완료\n",
      ">>> 비동기 처리 총 소요 시간 : 3.001739263534546\n"
     ],
     "output_type": "stream"
    }
   ],
   "source": [
    "# For Example Project\n",
    "\"\"\"\n",
    "외부 API는 1명의 사용자 데이터를 조회하는데 1초가 걸리고, 한번에 여러 사용자 데이터 조회 불가.\n",
    "각각 3명, 2명, 1명의 사용자 정보를 조회하는 요청 3개가 동시에 들어온다는 전재.\n",
    "\"\"\"\n",
    "import time, asyncio\n",
    "\n",
    "def find_users_sync(n):\n",
    "    for i in range(1, n + 1):\n",
    "        print(f'{n}명 중 {i}번 째 사용자 조회 중...')\n",
    "        time.sleep(1)\n",
    "    print(f' > 총 {n}명 사용자 동기 조회 완료!')\n",
    "    \n",
    "def process_sync():\n",
    "    start = time.time()\n",
    "    find_users_sync(3)\n",
    "    find_users_sync(2)\n",
    "    find_users_sync(1)\n",
    "    end = time.time()\n",
    "    print(\">>> 동기 처리 총 소요 시간 : {:.4}s\\n\".format(end-start))\n",
    "\n",
    "process_sync()\n",
    "\n",
    "async def find_users_async(n):\n",
    "    for i in range(1, n + 1):\n",
    "        print(\"{0}명 중 {1}번 째 사용자 조회 중...\".format(n, i))\n",
    "        await asyncio.sleep(1)\n",
    "    print(\"총 {}명 사용자 비동기 조회 완료\".format(n))\n",
    "\n",
    "async def process_async():\n",
    "    start = time.time()\n",
    "    await asyncio.wait([\n",
    "        find_users_async(3),\n",
    "        find_users_async(2),\n",
    "        find_users_async(1),\n",
    "    ])\n",
    "    end = time.time()\n",
    "    print(\">>> 비동기 처리 총 소요 시간 : {}\".format(end-start))\n",
    "\n",
    "# asyncio.run(process_async())  # Use Python 3.7  \n",
    "await process_async()  # Use Jupiter "
   ],
   "metadata": {
    "collapsed": false,
    "pycharm": {
     "name": "#%%\n",
     "is_executing": false
    }
   }
  }
 ],
 "metadata": {
  "kernelspec": {
   "display_name": "Python 3",
   "language": "python",
   "name": "python3"
  },
  "language_info": {
   "codemirror_mode": {
    "name": "ipython",
    "version": 2
   },
   "file_extension": ".py",
   "mimetype": "text/x-python",
   "name": "python",
   "nbconvert_exporter": "python",
   "pygments_lexer": "ipython2",
   "version": "2.7.6"
  },
  "pycharm": {
   "stem_cell": {
    "cell_type": "raw",
    "source": [],
    "metadata": {
     "collapsed": false
    }
   }
  }
 },
 "nbformat": 4,
 "nbformat_minor": 0
}