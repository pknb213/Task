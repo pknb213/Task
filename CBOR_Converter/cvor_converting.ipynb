{
 "cells": [
  {
   "cell_type": "code",
   "execution_count": 25,
   "outputs": [
    {
     "name": "stdout",
     "text": [
      "{\n",
      "    \"content\": {\n",
      "        \"content_type\": \"application/vnd.ocf+cbor\",\n",
      "        \"data\": \"o2JydIF1eC5jbG91ZC5kZXZpY2Uuc3RhdHVzYmlmgW9vaWMuaWYuYmFzZWxpbmVmb25saW5l9A==\"\n",
      "    },\n",
      "    \"resource_id\": {\n",
      "        \"device_id\": \"01681dc3-e4a8-4111-7085-406833ca9e91\",\n",
      "        \"href\": \"/oic/cloud/s\"\n",
      "    },\n",
      "    \"status\": 1,\n",
      "    \"types\": [\n",
      "        \"x.cloud.device.status\"\n",
      "    ]\n",
      "}\n",
      "{\n",
      "    \"content\": \"\",\n",
      "    \"resource_id\": {\n",
      "        \"device_id\": \"01681dc3-e4a8-4111-7085-406833ca9e91\",\n",
      "        \"href\": \"/oic/cloud/s\"\n",
      "    },\n",
      "    \"status\": 1,\n",
      "    \"types\": [\n",
      "        \"x.cloud.device.status\"\n",
      "    ]\n",
      "}\n",
      "2VzdGF0ZfRlcG93ZXIAZG5\n",
      "di\n",
      "2JkaXgkMDE2ODFkYzMtZTR\n"
     ],
     "output_type": "stream"
    }
   ],
   "source": [
    "import json, pprint\n",
    "from cbor2 import dumps, loads\n",
    "\n",
    "JSON = {\n",
    "    \"content\":{\n",
    "        \"content_type\":\"application/vnd.ocf+cbor\",\n",
    "        \"data\":\"o2JydIF1eC5jbG91ZC5kZXZpY2Uuc3RhdHVzYmlmgW9vaWMuaWYuYmFzZWxpbmVmb25saW5l9A==\"\n",
    "    },\n",
    "    \"resource_id\":{\n",
    "        \"device_id\":\"01681dc3-e4a8-4111-7085-406833ca9e91\",\n",
    "        \"href\":\"/oic/cloud/s\"\n",
    "    },\n",
    "    \"status\":1,\n",
    "    \"types\":[\n",
    "        \"x.cloud.device.status\"\n",
    "    ]\n",
    "}\n",
    "# pp = pprint.PrettyPrinter()\n",
    "# pp.pprint(json)\n",
    "print(json.dumps(JSON, indent=4))\n",
    "\n",
    "JSON['content'] = \"\"\n",
    "\n",
    "print(json.dumps(JSON, indent=4))\n",
    "\n",
    "print(loads(b'v2VzdGF0ZfRlcG93ZXIAZG5hbWVlTGlnaHT/'))\n",
    "print(loads(b'bdix$01681dc3-e4a8-4111-7085-406833ca9e91dpiidx$d3921714-8d0d-49b2-750c-3ab9b9edcf4canctlgcicviocf.2.0.5cdmvmocf.res.1.3.0'))\n",
    "print(loads(b'v2JkaXgkMDE2ODFkYzMtZTRhOC00MTExLTcwODUtNDA2ODMzY2E5ZTkxZHBpaWR4JGQzOTIxNzE0LThkMGQtNDliMi03NTBjLTNhYjliOWVkY2Y0Y2FuY3RsZ2NpY3Zpb2NmLjIuMC41Y2Rtdm1vY2YucmVzLjEuMy4w/w=='))"
   ],
   "metadata": {
    "collapsed": false,
    "pycharm": {
     "name": "#%%\n",
     "is_executing": false
    }
   }
  }
 ],
 "metadata": {
  "kernelspec": {
   "display_name": "Python 3",
   "language": "python",
   "name": "python3"
  },
  "language_info": {
   "codemirror_mode": {
    "name": "ipython",
    "version": 2
   },
   "file_extension": ".py",
   "mimetype": "text/x-python",
   "name": "python",
   "nbconvert_exporter": "python",
   "pygments_lexer": "ipython2",
   "version": "2.7.6"
  },
  "pycharm": {
   "stem_cell": {
    "cell_type": "raw",
    "source": [],
    "metadata": {
     "collapsed": false
    }
   }
  }
 },
 "nbformat": 4,
 "nbformat_minor": 0
}